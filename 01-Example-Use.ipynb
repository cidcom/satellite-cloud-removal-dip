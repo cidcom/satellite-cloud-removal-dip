{
 "cells": [
  {
   "cell_type": "code",
   "execution_count": null,
   "id": "84afc9d3",
   "metadata": {},
   "outputs": [],
   "source": [
    "%load_ext autoreload\n",
    "%autoreload 2\n",
    "%matplotlib inline"
   ]
  },
  {
   "cell_type": "code",
   "execution_count": null,
   "id": "55613c34",
   "metadata": {},
   "outputs": [],
   "source": [
    "from src import *\n",
    "import matplotlib as mpl\n",
    "import matplotlib.pyplot as plt\n",
    "mpl.rcParams['figure.figsize'] = (20, 10)"
   ]
  },
  {
   "cell_type": "markdown",
   "id": "b6f0fc22",
   "metadata": {},
   "source": [
    "### Example Cloud Image with a Cloud-Shadow Mask"
   ]
  },
  {
   "cell_type": "code",
   "execution_count": null,
   "id": "ae510e62",
   "metadata": {},
   "outputs": [],
   "source": [
    "s2_image = s2_preprocess('data/example_sample/S2/S1_3c120554-3873-4de2-bcc3-23ae00d28c4f_S2_76dac503-47d7-446b-b92d-56f4dd10f8e2_0_0_256x256.tif')\n",
    "\n",
    "with open('data/example_sample/mask.npy', 'rb') as f:\n",
    "    mask = np.load(f)"
   ]
  },
  {
   "cell_type": "code",
   "execution_count": null,
   "id": "593218ef",
   "metadata": {},
   "outputs": [],
   "source": [
    "plt.subplot(1,2,1)\n",
    "plt.imshow(mask)\n",
    "plt.subplot(1,2,2)\n",
    "plt.imshow(s2_image)"
   ]
  },
  {
   "cell_type": "markdown",
   "id": "d248fecb",
   "metadata": {},
   "source": [
    "### Supporting Data: Sentinel-1 SAR and a yearly Sentinel-2 average from 2019"
   ]
  },
  {
   "cell_type": "code",
   "execution_count": null,
   "id": "19b2fef4",
   "metadata": {},
   "outputs": [],
   "source": [
    "s1_image = s1_preprocess('data/example_sample/S1/S1_3c120554-3873-4de2-bcc3-23ae00d28c4f_S2_76dac503-47d7-446b-b92d-56f4dd10f8e2_0_0_256x256.tif',\n",
    "                         to_db = True)\n",
    "\n",
    "with open('data/2019_mean.npy', 'rb') as f:\n",
    "    s2_mean = np.load(f)"
   ]
  },
  {
   "cell_type": "code",
   "execution_count": null,
   "id": "6d3c6c8d",
   "metadata": {},
   "outputs": [],
   "source": [
    "plt.subplot(1,2,1)\n",
    "plt.imshow(s2_mean)\n",
    "plt.subplot(1,2,2)\n",
    "plt.imshow(rgb(s1_image))"
   ]
  },
  {
   "cell_type": "markdown",
   "id": "3872297e",
   "metadata": {},
   "source": [
    "### Initialize Model"
   ]
  },
  {
   "cell_type": "code",
   "execution_count": null,
   "id": "8c8354d5",
   "metadata": {},
   "outputs": [],
   "source": [
    "my_model = LitDIP()\n",
    "\n",
    "my_model.set_target([s2_image, s2_mean, s1_image])\n",
    "my_model.set_mask([mask,\n",
    "                   np.ones(mask.shape),\n",
    "                   np.ones(mask.shape)])"
   ]
  },
  {
   "cell_type": "code",
   "execution_count": null,
   "id": "71e8622a",
   "metadata": {},
   "outputs": [],
   "source": [
    "trainer = pl.Trainer(\n",
    "    max_epochs = 4,            \n",
    "    checkpoint_callback=False,\n",
    "    logger=False,\n",
    "    gpus = [0]\n",
    ")\n",
    "trainer.fit(my_model)"
   ]
  },
  {
   "cell_type": "code",
   "execution_count": null,
   "id": "fec53ab9",
   "metadata": {},
   "outputs": [],
   "source": [
    "result, _, _ = my_model.output() # the two unused (_) variables correspond to s2_mean reconstruction and s1_image reconstruction"
   ]
  },
  {
   "cell_type": "code",
   "execution_count": null,
   "id": "53e666dd",
   "metadata": {},
   "outputs": [],
   "source": [
    "plt.subplot(1,3,1)\n",
    "plt.imshow(mask)\n",
    "plt.subplot(1,3,2)\n",
    "plt.imshow(s2_image)\n",
    "plt.subplot(1,3,3)\n",
    "plt.imshow(result)"
   ]
  },
  {
   "cell_type": "code",
   "execution_count": null,
   "id": "482f3e06",
   "metadata": {},
   "outputs": [],
   "source": []
  }
 ],
 "metadata": {
  "language_info": {
   "name": "python",
   "pygments_lexer": "ipython3"
  }
 },
 "nbformat": 4,
 "nbformat_minor": 5
}
